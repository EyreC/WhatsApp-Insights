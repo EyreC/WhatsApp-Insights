{
 "cells": [
  {
   "cell_type": "markdown",
   "metadata": {},
   "source": [
    "# WhatsApp Sentiment Analysis"
   ]
  },
  {
   "cell_type": "markdown",
   "metadata": {},
   "source": [
    "## About"
   ]
  },
  {
   "cell_type": "markdown",
   "metadata": {},
   "source": [
    "This notebook processes a WhatsApp txt archive (input) and processes the data to yield some (hopefully) interesting insights.\n",
    "\n",
    "\n",
    "Interesting questions we would like to answer using the *word* data:\n",
    "- How much does each person write.\n",
    "- Who swears the most and with which swear words.\n",
    "- How does the quantity of text each person writes change over time.\n",
    "- What words does each person use the most frequently.\n",
    "\n",
    "\n",
    "Interesting questions we would like to answer using the *sentence* data:\n",
    "- Who is the most positive person on average.\n",
    "- Who is the most negative person on average.\n",
    "- Who has the single most positive message, and what is it?\n",
    "- Who has the single most negative message, and what is it?\n",
    "- Who has the most consistent message sentiment - the steady guy or gal.\n",
    "- Who has the most varied message sentiment - the bipolar guy or gal.\n",
    "- Who wrote the most sentences; talks too much.\n",
    "- Who wrote the least sentences; non-existent."
   ]
  },
  {
   "cell_type": "markdown",
   "metadata": {},
   "source": [
    "## Modules"
   ]
  },
  {
   "cell_type": "markdown",
   "metadata": {},
   "source": [
    "This section imports the relevant modules for the notebook."
   ]
  },
  {
   "cell_type": "code",
   "execution_count": 2,
   "metadata": {
    "collapsed": true
   },
   "outputs": [],
   "source": [
    "import pandas as pd\n",
    "import numpy as np\n",
    "from nltk.sentiment.vader import SentimentIntensityAnalyzer\n",
    "from nltk import tokenize\n",
    "from nltk.corpus import stopwords\n",
    "import matplotlib.pyplot as plt\n",
    "import matplotlib.dates as dat\n",
    "import string\n",
    "%matplotlib inline"
   ]
  },
  {
   "cell_type": "markdown",
   "metadata": {},
   "source": [
    "## Functions"
   ]
  },
  {
   "cell_type": "markdown",
   "metadata": {},
   "source": [
    "This section contains the functions used to process data in the notebook"
   ]
  },
  {
   "cell_type": "code",
   "execution_count": 3,
   "metadata": {
    "collapsed": true
   },
   "outputs": [],
   "source": [
    "#Converts WhatsApp Txt file to a list of lines, split by '\\n'\n",
    "def txtToList(txtFile):\n",
    "    with open(txtFile,'r') as file:\n",
    "        lines = [line.rstrip('\\n') for line in file]\n",
    "    return lines"
   ]
  },
  {
   "cell_type": "code",
   "execution_count": 4,
   "metadata": {
    "collapsed": true
   },
   "outputs": [],
   "source": [
    "#Modifies list of line separated WhatsApp messages to return a list of complete messages by each person\n",
    "#Example\n",
    "# Original:\n",
    "# Alex Craggs: Hello, can you buy the following ingredients:\n",
    "# 1. Sugar\n",
    "# 2. Eggs\n",
    "# 3. Milk\n",
    "# Returns\n",
    "# Alex Craggs: Hello, can you buy the following ingredients: 1. Sugar 2. Eggs 3. Milk\n",
    "\n",
    "def lineToMessage(lines):\n",
    "    lineList = []\n",
    "    indexList = []\n",
    "    bulletDict = {}\n",
    "    exceptionList = []\n",
    "    \n",
    "    for index,line in enumerate(lines):\n",
    "        try:\n",
    "            if line[2]=='/' and line[14]==\":\":\n",
    "                lineList.append(line)\n",
    "                indexList.append(index)\n",
    "            else:\n",
    "                bulletDict[index] = line\n",
    "\n",
    "        except IndexError as ex:\n",
    "            bulletDict[index] = line\n",
    "            pass\n",
    "        except Exception as ex:\n",
    "            print(ex)\n",
    "            pass\n",
    "\n",
    "    for index,value in enumerate(indexList):\n",
    "        try:\n",
    "            if indexList[index+1]-value>1:\n",
    "                #print(f\"add line to line {value}\")\n",
    "                indexRange = indexList[index+1]-value\n",
    "                #print(f\"add {indexRange - 1} lines\")\n",
    "                for x in range(indexRange-1):\n",
    "                    #print(f\"target line reads {lineList[index]}\")\n",
    "                    #print(f\"to add line reads {bulletDict[value+1+x]}\")\n",
    "                    lineList[index] += bulletDict[value+1+x]\n",
    "                    #print(f\"new line is: {lineList[index]}\")\n",
    "        except Exception as ex:\n",
    "            exceptionList.append([index,line])\n",
    "            pass\n",
    "        \n",
    "    if not exceptionList:\n",
    "        for pair in exceptionList:\n",
    "            print(f\"Exception occurs at index {pair[0]} and reads {pair[1]}\")\n",
    "\n",
    "    return lineList"
   ]
  },
  {
   "cell_type": "code",
   "execution_count": 5,
   "metadata": {
    "collapsed": true
   },
   "outputs": [],
   "source": [
    "#Extract names from messages\n",
    "def nameExtract(message):\n",
    "    hypIndex = message.find(\"-\")\n",
    "    return message[hypIndex+2:message[hypIndex:].find(\":\")+hypIndex]"
   ]
  },
  {
   "cell_type": "code",
   "execution_count": 6,
   "metadata": {
    "collapsed": true
   },
   "outputs": [],
   "source": [
    "#Extract Dates from messages\n",
    "def dateExtract(message):\n",
    "    dateIndex = 17\n",
    "    return message[:dateIndex]"
   ]
  },
  {
   "cell_type": "code",
   "execution_count": 7,
   "metadata": {
    "collapsed": true
   },
   "outputs": [],
   "source": [
    "# Parses content from WhatsApp formatted message that contains datetime and username\n",
    "def messageParser(message):\n",
    "    hypIndex = message.find(\"-\")+2\n",
    "    if message[hypIndex:message[hypIndex:].find(\":\")+hypIndex] == \"\":\n",
    "        return message[hypIndex:]\n",
    "    else:\n",
    "        partMessage = message[hypIndex:]\n",
    "        return partMessage[partMessage.find(\":\")+2:]"
   ]
  },
  {
   "cell_type": "code",
   "execution_count": 8,
   "metadata": {
    "collapsed": true
   },
   "outputs": [],
   "source": [
    "# Merge Duplicate Names\n",
    "# E.g. One user has more than one name in the WhatsApp chat, because she has changed numbers or uses more than one mobile\n",
    "def nameReplace(DataFrame,colName):\n",
    "    repName = input(\"Type the name to replace\")\n",
    "    mergeName = input(\"Type the name to merge with\")\n",
    "    numberToReplace = len(DataFrame[DataFrame[colName]==repName])\n",
    "    DataFrame[colName].replace(repName,mergeName,inplace=True)\n",
    "    numberLeft = len(DataFrame[DataFrame[colName]==repName])\n",
    "    print(f\"Number of names replaced is {numberToReplace - numberLeft}\")\n",
    "    return "
   ]
  },
  {
   "cell_type": "code",
   "execution_count": 9,
   "metadata": {
    "collapsed": true
   },
   "outputs": [],
   "source": [
    "#Gets sorted date list from groupby array\n",
    "def sortedDate(dataframe):\n",
    "    return sorted([date for date in set(dataframe.index.get_level_values(0))]) # unique dates\n",
    "              "
   ]
  },
  {
   "cell_type": "code",
   "execution_count": 55,
   "metadata": {
    "collapsed": true
   },
   "outputs": [],
   "source": [
    "#Fills list of groupby data with '0' values\n",
    "#Ensures all arrays are the same length for plotting in visualisation\n",
    "def listLengthMatch(dataframe,names):\n",
    "    uniqueDates = sorted([date for date in set(dataframe.index.get_level_values(0))]) # unique dates\n",
    "\n",
    "    allNameDict = {}\n",
    "    for name in names:\n",
    "        nameList = []\n",
    "        for date in uniqueDates:\n",
    "            try:\n",
    "                if dataframe.loc[(date,name)].any():\n",
    "                    nameList.append(dataframe.loc[(date,name)].values[0])\n",
    "                else:\n",
    "                    nameList.append(0)\n",
    "            except KeyError:\n",
    "                nameList.append(0)\n",
    "        allNameDict[name] = nameList\n",
    "    return allNameDict"
   ]
  },
  {
   "cell_type": "code",
   "execution_count": 11,
   "metadata": {
    "collapsed": true
   },
   "outputs": [],
   "source": [
    "# Returns list of usernames that appear more times than the stated threshold\n",
    "def threshList(df,colname,threshold):\n",
    "    nameList = df[colname].unique()\n",
    "\n",
    "    return [name for name in nameList if df[colname][df[colname]==name].count() > threshold]"
   ]
  },
  {
   "cell_type": "code",
   "execution_count": 94,
   "metadata": {
    "collapsed": true
   },
   "outputs": [],
   "source": [
    "# Returns dictionary of results\n",
    "def getResults(df,awardList):\n",
    "    resultDict = {}\n",
    "    for award in awardList:\n",
    "        if award[2] == \"+\":\n",
    "            resultDict[award[0]]= df[\"Score\"][award[1]].idxmax()\n",
    "        elif award[2] == \"-\":\n",
    "            resultDict[award[0]]= df[\"Score\"][award[1]].idxmin()\n",
    "        else:\n",
    "            pass\n",
    "    return resultDict"
   ]
  },
  {
   "cell_type": "markdown",
   "metadata": {},
   "source": [
    "# Data Processing"
   ]
  },
  {
   "cell_type": "markdown",
   "metadata": {},
   "source": [
    "## Sentiment Analysis DataFrame"
   ]
  },
  {
   "cell_type": "markdown",
   "metadata": {},
   "source": [
    "### Extracting Text"
   ]
  },
  {
   "cell_type": "code",
   "execution_count": 12,
   "metadata": {
    "collapsed": true
   },
   "outputs": [],
   "source": [
    "txt_file = \"YourChatHere.txt\" #.txt file containing WhatsApp conversation"
   ]
  },
  {
   "cell_type": "code",
   "execution_count": 13,
   "metadata": {
    "collapsed": true
   },
   "outputs": [],
   "source": [
    "lines = txtToList(txt_file) #Extract lines of text separated by '\\n'"
   ]
  },
  {
   "cell_type": "code",
   "execution_count": 14,
   "metadata": {},
   "outputs": [
    {
     "data": {
      "text/plain": [
       "3160"
      ]
     },
     "execution_count": 14,
     "metadata": {},
     "output_type": "execute_result"
    }
   ],
   "source": [
    "len(lines) #Check number of lines"
   ]
  },
  {
   "cell_type": "code",
   "execution_count": 15,
   "metadata": {
    "collapsed": true
   },
   "outputs": [],
   "source": [
    "messages = lineToMessage(lines) #Appends 'floating' sentences - that start with line breaks - to their authors"
   ]
  },
  {
   "cell_type": "code",
   "execution_count": 16,
   "metadata": {},
   "outputs": [
    {
     "data": {
      "text/plain": [
       "2643"
      ]
     },
     "execution_count": 16,
     "metadata": {},
     "output_type": "execute_result"
    }
   ],
   "source": [
    "len(messages) #Check how many floating lines were appended to their authors"
   ]
  },
  {
   "cell_type": "markdown",
   "metadata": {},
   "source": [
    "### Creating the DataFrame"
   ]
  },
  {
   "cell_type": "code",
   "execution_count": 17,
   "metadata": {
    "collapsed": true
   },
   "outputs": [],
   "source": [
    "message_df = pd.DataFrame({\"Message\":messages}) #Create a dataframe of messages"
   ]
  },
  {
   "cell_type": "code",
   "execution_count": null,
   "metadata": {
    "collapsed": true
   },
   "outputs": [],
   "source": [
    "message_df.head()"
   ]
  },
  {
   "cell_type": "markdown",
   "metadata": {},
   "source": [
    "Note that messages will be difficult to analyse because each message contains non-message information: Dates and Author Names. System messages are also appearing in the message column."
   ]
  },
  {
   "cell_type": "code",
   "execution_count": 19,
   "metadata": {
    "collapsed": true
   },
   "outputs": [],
   "source": [
    "message_df[\"Name\"] = [nameExtract(message) for message in message_df[\"Message\"]] #Extract names from \"Message\" into a new column"
   ]
  },
  {
   "cell_type": "code",
   "execution_count": null,
   "metadata": {
    "collapsed": true
   },
   "outputs": [],
   "source": [
    "message_df.head()"
   ]
  },
  {
   "cell_type": "code",
   "execution_count": 21,
   "metadata": {
    "collapsed": true
   },
   "outputs": [],
   "source": [
    "message_df[\"Date\"] = [dateExtract(message) for message in message_df[\"Message\"]] #Extract dates into a new column\n",
    "message_df[\"Date\"] = pd.to_datetime(message_df['Date'],dayfirst=True) #Convert date strings into datetime format"
   ]
  },
  {
   "cell_type": "code",
   "execution_count": null,
   "metadata": {
    "collapsed": true
   },
   "outputs": [],
   "source": [
    "message_df.head()"
   ]
  },
  {
   "cell_type": "code",
   "execution_count": 23,
   "metadata": {
    "collapsed": true
   },
   "outputs": [],
   "source": [
    "message_df[\"PureMessage\"] = [messageParser(message) for message in message_df[\"Message\"]]#Extract pure message\n",
    "message_df.drop([\"Message\"], axis=1,inplace=True) #Drop the \"Message\" column containing the 'rich' messages"
   ]
  },
  {
   "cell_type": "code",
   "execution_count": null,
   "metadata": {
    "collapsed": true
   },
   "outputs": [],
   "source": [
    "message_df.head()"
   ]
  },
  {
   "cell_type": "code",
   "execution_count": 25,
   "metadata": {
    "collapsed": true
   },
   "outputs": [],
   "source": [
    "message_df[\"Sentences\"] = [tokenize.sent_tokenize(message) for message in message_df[\"PureMessage\"]] #Extract sentences\n",
    "\n",
    "message_df[\"Words\"] = [tokenize.word_tokenize(message) for message in message_df[\"PureMessage\"]] #Extract words"
   ]
  },
  {
   "cell_type": "code",
   "execution_count": null,
   "metadata": {
    "collapsed": true
   },
   "outputs": [],
   "source": [
    "message_df.head()"
   ]
  },
  {
   "cell_type": "code",
   "execution_count": 27,
   "metadata": {
    "collapsed": true
   },
   "outputs": [],
   "source": [
    "wordSaturated = message_df[[\"Date\",\"Name\",\"Words\"]] #DataFrame of lists of words for each message\n",
    "sentenceSaturated = message_df[[\"Date\",\"Name\",\"Sentences\"]] #DataFrame of lists of sentences for each message"
   ]
  },
  {
   "cell_type": "code",
   "execution_count": 28,
   "metadata": {
    "collapsed": true
   },
   "outputs": [],
   "source": [
    "#Create a word df\n",
    "words = pd.DataFrame({\n",
    "    col:np.repeat(wordSaturated[col].values,wordSaturated[\"Words\"].str.len())\n",
    "    for col in wordSaturated.columns.difference([\"Words\"])\n",
    "    }).assign(**{\"Words\":np.concatenate(wordSaturated[\"Words\"].values)})"
   ]
  },
  {
   "cell_type": "code",
   "execution_count": 29,
   "metadata": {
    "collapsed": true
   },
   "outputs": [],
   "source": [
    "words.set_index(\"Date\",inplace=True) #Set dates as the index"
   ]
  },
  {
   "cell_type": "code",
   "execution_count": null,
   "metadata": {
    "collapsed": true
   },
   "outputs": [],
   "source": [
    "words.tail()"
   ]
  },
  {
   "cell_type": "markdown",
   "metadata": {},
   "source": [
    "#### Note\n",
    "Some individuals may have more than one phone number, so you will want to combine the two names into one"
   ]
  },
  {
   "cell_type": "code",
   "execution_count": null,
   "metadata": {
    "collapsed": true
   },
   "outputs": [],
   "source": [
    "nameReplace(words,\"Name\") # Merge Duplicates, if necessary"
   ]
  },
  {
   "cell_type": "code",
   "execution_count": null,
   "metadata": {
    "collapsed": true
   },
   "outputs": [],
   "source": [
    "wordGroup = words.groupby(\"Name\").count() #Group the words by name\n",
    "wordGroup"
   ]
  },
  {
   "cell_type": "markdown",
   "metadata": {},
   "source": [
    "#### Note\n",
    "You may not want to include all members of the \"Name\" list in your analysis. <br>Some people might have left the group, for instance.<br>The system messages are grouped under a empty string in \"Name\" <br>Here we drop the unwanted names"
   ]
  },
  {
   "cell_type": "code",
   "execution_count": null,
   "metadata": {
    "collapsed": true
   },
   "outputs": [],
   "source": [
    "dropNames = [\"\",\"Lucy\"] #Names to drop, modify this list\n",
    "wordGroup.drop(dropNames,axis=0,inplace=True)\n",
    "wordGroup.groupby(\"Name\").count()"
   ]
  },
  {
   "cell_type": "markdown",
   "metadata": {},
   "source": [
    "## Visualise Number of Words"
   ]
  },
  {
   "cell_type": "code",
   "execution_count": null,
   "metadata": {
    "collapsed": true
   },
   "outputs": [],
   "source": [
    "plt.figure(figsize=(15,8))\n",
    "plt.title(\"HOW MUCH DO YOU TALK\")\n",
    "plt.ylabel(\"Number of Words\")\n",
    "plt.bar(wordGroup.index.values.tolist(),wordGroup[\"Words\"].values.tolist(),align='center',color='black')"
   ]
  },
  {
   "cell_type": "markdown",
   "metadata": {},
   "source": [
    "### How much do they text over time?"
   ]
  },
  {
   "cell_type": "markdown",
   "metadata": {},
   "source": [
    "We want to see how the number of words each person has typed changes over time, by month"
   ]
  },
  {
   "cell_type": "code",
   "execution_count": 35,
   "metadata": {
    "collapsed": true
   },
   "outputs": [],
   "source": [
    "#Generate a table of the numebr of words each person uses per month\n",
    "wordTime = pd.DataFrame(words.groupby(by=[pd.Grouper(level='Date',freq=\"M\"),pd.Grouper(key=\"Name\")]).count())"
   ]
  },
  {
   "cell_type": "markdown",
   "metadata": {},
   "source": [
    "Note that the table omits the name of the person if they do not write anything in that month. <br>\n",
    "We want to modify this so that the length of the list of the number of words each person uses matches the length of the list of dates."
   ]
  },
  {
   "cell_type": "code",
   "execution_count": null,
   "metadata": {
    "collapsed": true
   },
   "outputs": [],
   "source": [
    "wordTime.head()"
   ]
  },
  {
   "cell_type": "code",
   "execution_count": null,
   "metadata": {
    "collapsed": true
   },
   "outputs": [],
   "source": [
    "keepNames"
   ]
  },
  {
   "cell_type": "code",
   "execution_count": null,
   "metadata": {
    "collapsed": true
   },
   "outputs": [],
   "source": [
    "allNames = words[\"Name\"].unique() #all names that appear in the dataframe\n",
    "keepNames = np.delete(keepNames,[0],axis=0) #remove the names that we do not want to analyse\n",
    "keepNames"
   ]
  },
  {
   "cell_type": "code",
   "execution_count": null,
   "metadata": {
    "collapsed": true
   },
   "outputs": [],
   "source": [
    "idx = pd.IndexSlice\n",
    "wordTime = wordTime.loc[idx[:,keepNames],:]\n",
    "wordTime.head()"
   ]
  },
  {
   "cell_type": "code",
   "execution_count": 56,
   "metadata": {
    "collapsed": true
   },
   "outputs": [],
   "source": [
    "plottingDict = listLengthMatch(wordTime,keepNames) #Dictionary of names and number of words as key:value pairs"
   ]
  },
  {
   "cell_type": "code",
   "execution_count": 57,
   "metadata": {
    "collapsed": true
   },
   "outputs": [],
   "source": [
    "uniqueDates = sortedDate(wordTime) #Get list of unique dates for plotting"
   ]
  },
  {
   "cell_type": "markdown",
   "metadata": {},
   "source": [
    "### Plot Word Frequency Over Time"
   ]
  },
  {
   "cell_type": "code",
   "execution_count": null,
   "metadata": {
    "collapsed": true
   },
   "outputs": [],
   "source": [
    "plottingDict"
   ]
  },
  {
   "cell_type": "code",
   "execution_count": 59,
   "metadata": {
    "collapsed": true
   },
   "outputs": [],
   "source": [
    "plotNum = len(plottingDict) #Number of graphs to plot\n",
    "plotCols = 3 #Number of subplots per row\n",
    "plotRows = plotNum // plotCols #Number of rows of subplots\n",
    "lastRowPlots = plotNum % 3 #Number of subplots in the final row\n",
    "lastRow = 1 if lastRowPlots != 0 else 0 #Binary variable whether the number of rows exceeds plotRows"
   ]
  },
  {
   "cell_type": "code",
   "execution_count": null,
   "metadata": {
    "collapsed": true
   },
   "outputs": [],
   "source": [
    "fig = plt.figure(figsize=(15,15))\n",
    "\n",
    "for i, name in enumerate(plottingDict):\n",
    "    \n",
    "    ax = fig.add_subplot(plotRows+lastRow,3,i+1)\n",
    "    plt.title(name)\n",
    "    ax.plot(uniqueDates,plottingDict[name])\n",
    "    ax.xaxis.set_major_locator(dat.MonthLocator(bymonthday=15))\n",
    "    ax.xaxis.set_minor_locator(dat.MonthLocator())\n",
    "    ax.xaxis.set_major_formatter(dat.DateFormatter(\"%b\"))\n",
    "    ax.xaxis.set_major_locator(dat.MonthLocator(bymonthday=15))\n"
   ]
  },
  {
   "cell_type": "markdown",
   "metadata": {},
   "source": [
    "# What the @!#%?"
   ]
  },
  {
   "cell_type": "markdown",
   "metadata": {},
   "source": [
    "(1) We want to find out who swears the most, and what swear words they use. <br> \n",
    "(2) We will see who uses the f-word the most. <br>\n",
    "(3) We will see whether there are common swear words unique to an individual."
   ]
  },
  {
   "cell_type": "markdown",
   "metadata": {},
   "source": [
    "#### Who F\\*\\*\\*s the most?"
   ]
  },
  {
   "cell_type": "code",
   "execution_count": 61,
   "metadata": {
    "collapsed": true
   },
   "outputs": [],
   "source": [
    "badBoy = \"fuck\" #save the swear word of choice as the 'badBoy' variable"
   ]
  },
  {
   "cell_type": "code",
   "execution_count": null,
   "metadata": {
    "collapsed": true
   },
   "outputs": [],
   "source": [
    "badWords = words.copy(deep=True)\n",
    "badWords[\"BadWord\"] = [1 if badBoy in word.lower() else 0 for word in words[\"Words\"]]\n",
    "badWords.head()"
   ]
  },
  {
   "cell_type": "code",
   "execution_count": null,
   "metadata": {
    "collapsed": true
   },
   "outputs": [],
   "source": [
    "allNames = [name for name in set(badWords[\"Name\"])if name != \"\"]\n",
    "badWordFilter = badWords[\"BadWord\"] > 0 #Filter for bad words\n",
    "badWords = badWords[badWordFilter] #Examine the bad words used\n",
    "badWords"
   ]
  },
  {
   "cell_type": "code",
   "execution_count": 64,
   "metadata": {
    "collapsed": true
   },
   "outputs": [],
   "source": [
    "badWords.drop(\"Words\",axis=1,inplace=True) #Drop the \"Words\" column"
   ]
  },
  {
   "cell_type": "code",
   "execution_count": null,
   "metadata": {
    "collapsed": true
   },
   "outputs": [],
   "source": [
    "badWordGroup = badWords.groupby(\"Name\").count()\n",
    "badWordGroup"
   ]
  },
  {
   "cell_type": "code",
   "execution_count": null,
   "metadata": {
    "collapsed": true
   },
   "outputs": [],
   "source": [
    "#Generate dictionary\n",
    "#Add in missing people's names\n",
    "#plot graph\n",
    "badWordDict = {}\n",
    "for name in badWordGroup.index:\n",
    "    badWordDict[name] = badWordGroup.loc[name].values[0]\n",
    "for name in allNames:\n",
    "    if name in badWordDict.keys():\n",
    "        pass\n",
    "    else:\n",
    "        badWordDict[name] = 0\n",
    "badWordDict"
   ]
  },
  {
   "cell_type": "code",
   "execution_count": null,
   "metadata": {
    "collapsed": true
   },
   "outputs": [],
   "source": [
    "#Generate dictionary\n",
    "#Add in missing people's names\n",
    "#plot graph\n",
    "badWordDict = {}\n",
    "for name in badWordGroup.index:\n",
    "    badWordDict[name] = badWordGroup.loc[name].values[0]\n",
    "for name in allNames:\n",
    "    if name in badWordDict.keys():\n",
    "        pass\n",
    "    else:\n",
    "        badWordDict[name] = 0\n",
    "badWordDict"
   ]
  },
  {
   "cell_type": "code",
   "execution_count": null,
   "metadata": {
    "collapsed": true
   },
   "outputs": [],
   "source": [
    "plt.figure(figsize=(15,9))\n",
    "plt.bar(badWordDict.keys(),badWordDict.values(),color='black')\n",
    "plt.title(\"How much do you swear?\")\n",
    "plt.xlabel(\"Name\")\n",
    "plt.ylabel(\"Number of Swears\")"
   ]
  },
  {
   "cell_type": "markdown",
   "metadata": {},
   "source": [
    "### Most Commonly Used Words"
   ]
  },
  {
   "cell_type": "code",
   "execution_count": 69,
   "metadata": {
    "collapsed": true
   },
   "outputs": [],
   "source": [
    "stopWords = stopwords.words('english')+list(string.punctuation)+[\"media\",\"omitted\"]+[\"’\",\"''\",'\"\"',\"'m\",\"'d\",\"'ve\",\"'ll\",\"'re\",\"'s\",\"n't\",\"'t\",\"'nt\"] #Common words to remove"
   ]
  },
  {
   "cell_type": "code",
   "execution_count": null,
   "metadata": {
    "collapsed": true
   },
   "outputs": [],
   "source": [
    "words[\"StopWord\"] = [1 if word.lower() in stopWords else 0 for word in words[\"Words\"]]\n",
    "words.head()"
   ]
  },
  {
   "cell_type": "code",
   "execution_count": null,
   "metadata": {
    "collapsed": true
   },
   "outputs": [],
   "source": [
    "meatWords = words.copy(deep=True)\n",
    "stopFilter = meatWords[\"StopWord\"] == 0\n",
    "meatWords = meatWords[stopFilter]\n",
    "systemFilter = ~(meatWords[\"Name\"] == \"\")\n",
    "meatWords = meatWords[systemFilter]\n",
    "meatWords.head()"
   ]
  },
  {
   "cell_type": "code",
   "execution_count": null,
   "metadata": {
    "collapsed": true
   },
   "outputs": [],
   "source": [
    "df_agg = meatWords.groupby(['Name','Words']).count()\n",
    "g = df_agg['StopWord'].groupby(level=0, group_keys=False)\n",
    "g.nlargest(10)"
   ]
  },
  {
   "cell_type": "code",
   "execution_count": 82,
   "metadata": {
    "collapsed": true
   },
   "outputs": [],
   "source": [
    "freqWordsSeries=g.nlargest(10)"
   ]
  },
  {
   "cell_type": "markdown",
   "metadata": {},
   "source": [
    "Account for how some individuals will not have written enough to have ten unique words."
   ]
  },
  {
   "cell_type": "code",
   "execution_count": 83,
   "metadata": {
    "collapsed": true
   },
   "outputs": [],
   "source": [
    "freqWords = pd.DataFrame(index = range(10),columns = allNames)\n",
    "freqWords.fillna(0)\n",
    "\n",
    "for name in allNames:\n",
    "    nameList = freqWordsSeries.loc[name].sort_values(ascending=False).index.values\n",
    "    valList = freqWordsSeries.loc[name].sort_values(ascending=False).values\n",
    "    diff = 10 - len(nameList)\n",
    "    if diff > 0:\n",
    "        for i in range(diff):\n",
    "            nameList = np.append(nameList,\"\")\n",
    "            valList = np.append(valList,0)\n",
    "    else:\n",
    "        pass\n",
    "    \n",
    "    freqWords[name] = np.stack((nameList,valList),axis=-1).tolist()"
   ]
  },
  {
   "cell_type": "code",
   "execution_count": 84,
   "metadata": {},
   "outputs": [
    {
     "data": {
      "text/html": [
       "<div>\n",
       "<style scoped>\n",
       "    .dataframe tbody tr th:only-of-type {\n",
       "        vertical-align: middle;\n",
       "    }\n",
       "\n",
       "    .dataframe tbody tr th {\n",
       "        vertical-align: top;\n",
       "    }\n",
       "\n",
       "    .dataframe thead th {\n",
       "        text-align: right;\n",
       "    }\n",
       "</style>\n",
       "<table border=\"1\" class=\"dataframe\">\n",
       "  <thead>\n",
       "    <tr style=\"text-align: right;\">\n",
       "      <th></th>\n",
       "      <th>Iuliana Padurariu</th>\n",
       "      <th>Vlad</th>\n",
       "      <th>Lucy</th>\n",
       "      <th>Magda Singheorghe</th>\n",
       "      <th>Luca Pizzi</th>\n",
       "      <th>Radu Malaxa</th>\n",
       "      <th>Alexandra Rizzo</th>\n",
       "      <th>Alex Craggs</th>\n",
       "    </tr>\n",
       "  </thead>\n",
       "  <tbody>\n",
       "    <tr>\n",
       "      <th>0</th>\n",
       "      <td>[home, 8]</td>\n",
       "      <td>[let, 1]</td>\n",
       "      <td>[think, 4]</td>\n",
       "      <td>[think, 18]</td>\n",
       "      <td>[one, 15]</td>\n",
       "      <td>[like, 13]</td>\n",
       "      <td>[like, 38]</td>\n",
       "      <td>[us, 72]</td>\n",
       "    </tr>\n",
       "    <tr>\n",
       "      <th>1</th>\n",
       "      <td>[room, 6]</td>\n",
       "      <td>[Nvm, 1]</td>\n",
       "      <td>[student, 4]</td>\n",
       "      <td>[need, 16]</td>\n",
       "      <td>[get, 13]</td>\n",
       "      <td>[u, 11]</td>\n",
       "      <td>[room, 32]</td>\n",
       "      <td>[one, 69]</td>\n",
       "    </tr>\n",
       "    <tr>\n",
       "      <th>2</th>\n",
       "      <td>[..., 6]</td>\n",
       "      <td>[, 0]</td>\n",
       "      <td>[rent, 4]</td>\n",
       "      <td>[home, 16]</td>\n",
       "      <td>[please, 12]</td>\n",
       "      <td>[home, 11]</td>\n",
       "      <td>[kitchen, 32]</td>\n",
       "      <td>[please, 67]</td>\n",
       "    </tr>\n",
       "    <tr>\n",
       "      <th>3</th>\n",
       "      <td>[sorry, 5]</td>\n",
       "      <td>[, 0]</td>\n",
       "      <td>[pay, 4]</td>\n",
       "      <td>[like, 14]</td>\n",
       "      <td>[think, 11]</td>\n",
       "      <td>[one, 9]</td>\n",
       "      <td>[week, 26]</td>\n",
       "      <td>[rent, 65]</td>\n",
       "    </tr>\n",
       "    <tr>\n",
       "      <th>4</th>\n",
       "      <td>[one, 5]</td>\n",
       "      <td>[, 0]</td>\n",
       "      <td>[finance, 4]</td>\n",
       "      <td>[kitchen, 14]</td>\n",
       "      <td>[ok, 11]</td>\n",
       "      <td>[pay, 8]</td>\n",
       "      <td>[someone, 26]</td>\n",
       "      <td>[get, 50]</td>\n",
       "    </tr>\n",
       "    <tr>\n",
       "      <th>5</th>\n",
       "      <td>[going, 5]</td>\n",
       "      <td>[, 0]</td>\n",
       "      <td>[cover, 4]</td>\n",
       "      <td>[get, 13]</td>\n",
       "      <td>[home, 11]</td>\n",
       "      <td>[know, 8]</td>\n",
       "      <td>[clean, 25]</td>\n",
       "      <td>[kitchen, 41]</td>\n",
       "    </tr>\n",
       "    <tr>\n",
       "      <th>6</th>\n",
       "      <td>[Thank, 5]</td>\n",
       "      <td>[, 0]</td>\n",
       "      <td>[afford, 3]</td>\n",
       "      <td>[na, 11]</td>\n",
       "      <td>[know, 10]</td>\n",
       "      <td>[get, 8]</td>\n",
       "      <td>[think, 24]</td>\n",
       "      <td>[need, 39]</td>\n",
       "    </tr>\n",
       "    <tr>\n",
       "      <th>7</th>\n",
       "      <td>[time, 4]</td>\n",
       "      <td>[, 0]</td>\n",
       "      <td>[able, 3]</td>\n",
       "      <td>[guys, 11]</td>\n",
       "      <td>[na, 9]</td>\n",
       "      <td>[think, 7]</td>\n",
       "      <td>[na, 22]</td>\n",
       "      <td>[week, 37]</td>\n",
       "    </tr>\n",
       "    <tr>\n",
       "      <th>8</th>\n",
       "      <td>[please, 4]</td>\n",
       "      <td>[, 0]</td>\n",
       "      <td>[September, 3]</td>\n",
       "      <td>[447480334614, 10]</td>\n",
       "      <td>[Alex, 9]</td>\n",
       "      <td>[Yeah, 6]</td>\n",
       "      <td>[home, 22]</td>\n",
       "      <td>[tonight, 37]</td>\n",
       "    </tr>\n",
       "    <tr>\n",
       "      <th>9</th>\n",
       "      <td>[^^, 3]</td>\n",
       "      <td>[, 0]</td>\n",
       "      <td>[Mid, 3]</td>\n",
       "      <td>[Like, 9]</td>\n",
       "      <td>[number, 8]</td>\n",
       "      <td>[Alex, 6]</td>\n",
       "      <td>[one, 21]</td>\n",
       "      <td>[landlord, 36]</td>\n",
       "    </tr>\n",
       "  </tbody>\n",
       "</table>\n",
       "</div>"
      ],
      "text/plain": [
       "  Iuliana Padurariu      Vlad            Lucy   Magda Singheorghe  \\\n",
       "0         [home, 8]  [let, 1]      [think, 4]         [think, 18]   \n",
       "1         [room, 6]  [Nvm, 1]    [student, 4]          [need, 16]   \n",
       "2          [..., 6]     [, 0]       [rent, 4]          [home, 16]   \n",
       "3        [sorry, 5]     [, 0]        [pay, 4]          [like, 14]   \n",
       "4          [one, 5]     [, 0]    [finance, 4]       [kitchen, 14]   \n",
       "5        [going, 5]     [, 0]      [cover, 4]           [get, 13]   \n",
       "6        [Thank, 5]     [, 0]     [afford, 3]            [na, 11]   \n",
       "7         [time, 4]     [, 0]       [able, 3]          [guys, 11]   \n",
       "8       [please, 4]     [, 0]  [September, 3]  [447480334614, 10]   \n",
       "9           [^^, 3]     [, 0]        [Mid, 3]           [Like, 9]   \n",
       "\n",
       "     Luca Pizzi Radu Malaxa Alexandra Rizzo     Alex Craggs  \n",
       "0     [one, 15]  [like, 13]      [like, 38]        [us, 72]  \n",
       "1     [get, 13]     [u, 11]      [room, 32]       [one, 69]  \n",
       "2  [please, 12]  [home, 11]   [kitchen, 32]    [please, 67]  \n",
       "3   [think, 11]    [one, 9]      [week, 26]      [rent, 65]  \n",
       "4      [ok, 11]    [pay, 8]   [someone, 26]       [get, 50]  \n",
       "5    [home, 11]   [know, 8]     [clean, 25]   [kitchen, 41]  \n",
       "6    [know, 10]    [get, 8]     [think, 24]      [need, 39]  \n",
       "7       [na, 9]  [think, 7]        [na, 22]      [week, 37]  \n",
       "8     [Alex, 9]   [Yeah, 6]      [home, 22]   [tonight, 37]  \n",
       "9   [number, 8]   [Alex, 6]       [one, 21]  [landlord, 36]  "
      ]
     },
     "execution_count": 84,
     "metadata": {},
     "output_type": "execute_result"
    }
   ],
   "source": []
  },
  {
   "cell_type": "markdown",
   "metadata": {},
   "source": [
    "# Sentence Analysis"
   ]
  },
  {
   "cell_type": "markdown",
   "metadata": {},
   "source": [
    "### \n",
    "Who is the most positive person on average.\n",
    "Who is the most negative person on average.\n",
    "Who has the single most positive message, and what is it?\n",
    "Who has the single most negative message, and what is it?\n",
    "Who has the most consistent message sentiment - the steady guy or gal.\n",
    "Who has the most varied message sentiment - the bipolar guy or gal.\n",
    "Who wrote the most sentences; talks too much.\n",
    "Who wrote the least sentences; non-existent."
   ]
  },
  {
   "cell_type": "code",
   "execution_count": 85,
   "metadata": {},
   "outputs": [
    {
     "data": {
      "text/html": [
       "<div>\n",
       "<style scoped>\n",
       "    .dataframe tbody tr th:only-of-type {\n",
       "        vertical-align: middle;\n",
       "    }\n",
       "\n",
       "    .dataframe tbody tr th {\n",
       "        vertical-align: top;\n",
       "    }\n",
       "\n",
       "    .dataframe thead th {\n",
       "        text-align: right;\n",
       "    }\n",
       "</style>\n",
       "<table border=\"1\" class=\"dataframe\">\n",
       "  <thead>\n",
       "    <tr style=\"text-align: right;\">\n",
       "      <th></th>\n",
       "      <th>Date</th>\n",
       "      <th>Name</th>\n",
       "      <th>Sentences</th>\n",
       "    </tr>\n",
       "  </thead>\n",
       "  <tbody>\n",
       "    <tr>\n",
       "      <th>0</th>\n",
       "      <td>2018-04-18 12:34:00</td>\n",
       "      <td></td>\n",
       "      <td>[Messages to this group are now secured with e...</td>\n",
       "    </tr>\n",
       "    <tr>\n",
       "      <th>1</th>\n",
       "      <td>2018-04-18 12:34:00</td>\n",
       "      <td></td>\n",
       "      <td>[You created group \"Clean Kitchen Crib 🏡\"]</td>\n",
       "    </tr>\n",
       "    <tr>\n",
       "      <th>2</th>\n",
       "      <td>2018-04-18 12:34:00</td>\n",
       "      <td>Alex Craggs</td>\n",
       "      <td>[Hi, this is a group for our shared flat next ...</td>\n",
       "    </tr>\n",
       "    <tr>\n",
       "      <th>3</th>\n",
       "      <td>2018-04-18 12:35:00</td>\n",
       "      <td>Alex Craggs</td>\n",
       "      <td>[We will probably use it mostly to coordinate ...</td>\n",
       "    </tr>\n",
       "    <tr>\n",
       "      <th>4</th>\n",
       "      <td>2018-04-18 12:36:00</td>\n",
       "      <td>Alex Craggs</td>\n",
       "      <td>[As well as arranging times to meet to discuss...</td>\n",
       "    </tr>\n",
       "  </tbody>\n",
       "</table>\n",
       "</div>"
      ],
      "text/plain": [
       "                 Date         Name  \\\n",
       "0 2018-04-18 12:34:00                \n",
       "1 2018-04-18 12:34:00                \n",
       "2 2018-04-18 12:34:00  Alex Craggs   \n",
       "3 2018-04-18 12:35:00  Alex Craggs   \n",
       "4 2018-04-18 12:36:00  Alex Craggs   \n",
       "\n",
       "                                           Sentences  \n",
       "0  [Messages to this group are now secured with e...  \n",
       "1         [You created group \"Clean Kitchen Crib 🏡\"]  \n",
       "2  [Hi, this is a group for our shared flat next ...  \n",
       "3  [We will probably use it mostly to coordinate ...  \n",
       "4  [As well as arranging times to meet to discuss...  "
      ]
     },
     "execution_count": 85,
     "metadata": {},
     "output_type": "execute_result"
    }
   ],
   "source": [
    "sentenceSaturated.head()"
   ]
  },
  {
   "cell_type": "code",
   "execution_count": 86,
   "metadata": {
    "collapsed": true
   },
   "outputs": [],
   "source": [
    "#Get all messages\n",
    "sent = pd.DataFrame({\n",
    "    col:np.repeat(sentenceSaturated[col].values,sentenceSaturated[\"Sentences\"].str.len())\n",
    "    for col in sentenceSaturated.columns.difference([\"Sentences\"])\n",
    "    }).assign(**{\"Sentences\":np.concatenate(sentenceSaturated[\"Sentences\"].values)})"
   ]
  },
  {
   "cell_type": "code",
   "execution_count": 87,
   "metadata": {},
   "outputs": [
    {
     "data": {
      "text/html": [
       "<div>\n",
       "<style scoped>\n",
       "    .dataframe tbody tr th:only-of-type {\n",
       "        vertical-align: middle;\n",
       "    }\n",
       "\n",
       "    .dataframe tbody tr th {\n",
       "        vertical-align: top;\n",
       "    }\n",
       "\n",
       "    .dataframe thead th {\n",
       "        text-align: right;\n",
       "    }\n",
       "</style>\n",
       "<table border=\"1\" class=\"dataframe\">\n",
       "  <thead>\n",
       "    <tr style=\"text-align: right;\">\n",
       "      <th></th>\n",
       "      <th>Date</th>\n",
       "      <th>Name</th>\n",
       "      <th>Sentences</th>\n",
       "    </tr>\n",
       "  </thead>\n",
       "  <tbody>\n",
       "    <tr>\n",
       "      <th>0</th>\n",
       "      <td>2018-04-18 12:34:00</td>\n",
       "      <td></td>\n",
       "      <td>Messages to this group are now secured with en...</td>\n",
       "    </tr>\n",
       "    <tr>\n",
       "      <th>1</th>\n",
       "      <td>2018-04-18 12:34:00</td>\n",
       "      <td></td>\n",
       "      <td>Tap for more info.</td>\n",
       "    </tr>\n",
       "    <tr>\n",
       "      <th>2</th>\n",
       "      <td>2018-04-18 12:34:00</td>\n",
       "      <td></td>\n",
       "      <td>You created group \"Clean Kitchen Crib 🏡\"</td>\n",
       "    </tr>\n",
       "    <tr>\n",
       "      <th>3</th>\n",
       "      <td>2018-04-18 12:34:00</td>\n",
       "      <td>Alex Craggs</td>\n",
       "      <td>Hi, this is a group for our shared flat next y...</td>\n",
       "    </tr>\n",
       "    <tr>\n",
       "      <th>4</th>\n",
       "      <td>2018-04-18 12:35:00</td>\n",
       "      <td>Alex Craggs</td>\n",
       "      <td>We will probably use it mostly to coordinate v...</td>\n",
       "    </tr>\n",
       "  </tbody>\n",
       "</table>\n",
       "</div>"
      ],
      "text/plain": [
       "                 Date         Name  \\\n",
       "0 2018-04-18 12:34:00                \n",
       "1 2018-04-18 12:34:00                \n",
       "2 2018-04-18 12:34:00                \n",
       "3 2018-04-18 12:34:00  Alex Craggs   \n",
       "4 2018-04-18 12:35:00  Alex Craggs   \n",
       "\n",
       "                                           Sentences  \n",
       "0  Messages to this group are now secured with en...  \n",
       "1                                 Tap for more info.  \n",
       "2           You created group \"Clean Kitchen Crib 🏡\"  \n",
       "3  Hi, this is a group for our shared flat next y...  \n",
       "4  We will probably use it mostly to coordinate v...  "
      ]
     },
     "execution_count": 87,
     "metadata": {},
     "output_type": "execute_result"
    }
   ],
   "source": [
    "sent.head()"
   ]
  },
  {
   "cell_type": "code",
   "execution_count": 88,
   "metadata": {},
   "outputs": [
    {
     "data": {
      "text/html": [
       "<div>\n",
       "<style scoped>\n",
       "    .dataframe tbody tr th:only-of-type {\n",
       "        vertical-align: middle;\n",
       "    }\n",
       "\n",
       "    .dataframe tbody tr th {\n",
       "        vertical-align: top;\n",
       "    }\n",
       "\n",
       "    .dataframe thead th {\n",
       "        text-align: right;\n",
       "    }\n",
       "</style>\n",
       "<table border=\"1\" class=\"dataframe\">\n",
       "  <thead>\n",
       "    <tr style=\"text-align: right;\">\n",
       "      <th></th>\n",
       "      <th>Date</th>\n",
       "      <th>Name</th>\n",
       "      <th>Sentences</th>\n",
       "      <th>Score</th>\n",
       "    </tr>\n",
       "  </thead>\n",
       "  <tbody>\n",
       "    <tr>\n",
       "      <th>0</th>\n",
       "      <td>2018-04-18 12:34:00</td>\n",
       "      <td></td>\n",
       "      <td>Messages to this group are now secured with en...</td>\n",
       "      <td>0.4019</td>\n",
       "    </tr>\n",
       "    <tr>\n",
       "      <th>1</th>\n",
       "      <td>2018-04-18 12:34:00</td>\n",
       "      <td></td>\n",
       "      <td>Tap for more info.</td>\n",
       "      <td>0.0000</td>\n",
       "    </tr>\n",
       "    <tr>\n",
       "      <th>2</th>\n",
       "      <td>2018-04-18 12:34:00</td>\n",
       "      <td></td>\n",
       "      <td>You created group \"Clean Kitchen Crib 🏡\"</td>\n",
       "      <td>0.5719</td>\n",
       "    </tr>\n",
       "    <tr>\n",
       "      <th>3</th>\n",
       "      <td>2018-04-18 12:34:00</td>\n",
       "      <td>Alex Craggs</td>\n",
       "      <td>Hi, this is a group for our shared flat next y...</td>\n",
       "      <td>0.3400</td>\n",
       "    </tr>\n",
       "    <tr>\n",
       "      <th>4</th>\n",
       "      <td>2018-04-18 12:35:00</td>\n",
       "      <td>Alex Craggs</td>\n",
       "      <td>We will probably use it mostly to coordinate v...</td>\n",
       "      <td>0.0000</td>\n",
       "    </tr>\n",
       "  </tbody>\n",
       "</table>\n",
       "</div>"
      ],
      "text/plain": [
       "                 Date         Name  \\\n",
       "0 2018-04-18 12:34:00                \n",
       "1 2018-04-18 12:34:00                \n",
       "2 2018-04-18 12:34:00                \n",
       "3 2018-04-18 12:34:00  Alex Craggs   \n",
       "4 2018-04-18 12:35:00  Alex Craggs   \n",
       "\n",
       "                                           Sentences   Score  \n",
       "0  Messages to this group are now secured with en...  0.4019  \n",
       "1                                 Tap for more info.  0.0000  \n",
       "2           You created group \"Clean Kitchen Crib 🏡\"  0.5719  \n",
       "3  Hi, this is a group for our shared flat next y...  0.3400  \n",
       "4  We will probably use it mostly to coordinate v...  0.0000  "
      ]
     },
     "execution_count": 88,
     "metadata": {},
     "output_type": "execute_result"
    }
   ],
   "source": [
    "analyser = SentimentIntensityAnalyzer() #Create sentiment analyser\n",
    "sent[\"Score\"] = [analyser.polarity_scores(sent)[\"compound\"] for sent in sent[\"Sentences\"]] # Generate scores for each sentence\n",
    "sent.head()"
   ]
  },
  {
   "cell_type": "code",
   "execution_count": 89,
   "metadata": {
    "collapsed": true
   },
   "outputs": [],
   "source": [
    "#Restrict to users who have posted more than x posts\n",
    "minPost = 50\n",
    "threshNames = threshList(sent,\"Name\",minPost)\n",
    "restricted = sent[sent[\"Name\"].isin(threshNames)].set_index(\"Name\")"
   ]
  },
  {
   "cell_type": "code",
   "execution_count": 90,
   "metadata": {},
   "outputs": [
    {
     "data": {
      "text/html": [
       "<div>\n",
       "<style scoped>\n",
       "    .dataframe tbody tr th:only-of-type {\n",
       "        vertical-align: middle;\n",
       "    }\n",
       "\n",
       "    .dataframe tbody tr th {\n",
       "        vertical-align: top;\n",
       "    }\n",
       "\n",
       "    .dataframe thead th {\n",
       "        text-align: right;\n",
       "    }\n",
       "</style>\n",
       "<table border=\"1\" class=\"dataframe\">\n",
       "  <thead>\n",
       "    <tr style=\"text-align: right;\">\n",
       "      <th></th>\n",
       "      <th>Date</th>\n",
       "      <th>Sentences</th>\n",
       "      <th>Score</th>\n",
       "    </tr>\n",
       "    <tr>\n",
       "      <th>Name</th>\n",
       "      <th></th>\n",
       "      <th></th>\n",
       "      <th></th>\n",
       "    </tr>\n",
       "  </thead>\n",
       "  <tbody>\n",
       "    <tr>\n",
       "      <th>Alex Craggs</th>\n",
       "      <td>2018-04-18 12:34:00</td>\n",
       "      <td>Hi, this is a group for our shared flat next y...</td>\n",
       "      <td>0.3400</td>\n",
       "    </tr>\n",
       "    <tr>\n",
       "      <th>Alex Craggs</th>\n",
       "      <td>2018-04-18 12:35:00</td>\n",
       "      <td>We will probably use it mostly to coordinate v...</td>\n",
       "      <td>0.0000</td>\n",
       "    </tr>\n",
       "    <tr>\n",
       "      <th>Alex Craggs</th>\n",
       "      <td>2018-04-18 12:36:00</td>\n",
       "      <td>As well as arranging times to meet to discuss ...</td>\n",
       "      <td>0.6705</td>\n",
       "    </tr>\n",
       "    <tr>\n",
       "      <th>Alex Craggs</th>\n",
       "      <td>2018-04-18 12:36:00</td>\n",
       "      <td>And to remind each other we love them ♥️</td>\n",
       "      <td>0.6369</td>\n",
       "    </tr>\n",
       "    <tr>\n",
       "      <th>Magda Singheorghe</th>\n",
       "      <td>2018-04-18 12:40:00</td>\n",
       "      <td>❤ all we need is love</td>\n",
       "      <td>0.6369</td>\n",
       "    </tr>\n",
       "  </tbody>\n",
       "</table>\n",
       "</div>"
      ],
      "text/plain": [
       "                                 Date  \\\n",
       "Name                                    \n",
       "Alex Craggs       2018-04-18 12:34:00   \n",
       "Alex Craggs       2018-04-18 12:35:00   \n",
       "Alex Craggs       2018-04-18 12:36:00   \n",
       "Alex Craggs       2018-04-18 12:36:00   \n",
       "Magda Singheorghe 2018-04-18 12:40:00   \n",
       "\n",
       "                                                           Sentences   Score  \n",
       "Name                                                                          \n",
       "Alex Craggs        Hi, this is a group for our shared flat next y...  0.3400  \n",
       "Alex Craggs        We will probably use it mostly to coordinate v...  0.0000  \n",
       "Alex Craggs        As well as arranging times to meet to discuss ...  0.6705  \n",
       "Alex Craggs                 And to remind each other we love them ♥️  0.6369  \n",
       "Magda Singheorghe                              ❤ all we need is love  0.6369  "
      ]
     },
     "execution_count": 90,
     "metadata": {},
     "output_type": "execute_result"
    }
   ],
   "source": [
    "restricted.head()"
   ]
  },
  {
   "cell_type": "code",
   "execution_count": 92,
   "metadata": {},
   "outputs": [
    {
     "data": {
      "text/html": [
       "<div>\n",
       "<style scoped>\n",
       "    .dataframe tbody tr th:only-of-type {\n",
       "        vertical-align: middle;\n",
       "    }\n",
       "\n",
       "    .dataframe tbody tr th {\n",
       "        vertical-align: top;\n",
       "    }\n",
       "\n",
       "    .dataframe thead tr th {\n",
       "        text-align: left;\n",
       "    }\n",
       "\n",
       "    .dataframe thead tr:last-of-type th {\n",
       "        text-align: right;\n",
       "    }\n",
       "</style>\n",
       "<table border=\"1\" class=\"dataframe\">\n",
       "  <thead>\n",
       "    <tr>\n",
       "      <th></th>\n",
       "      <th colspan=\"8\" halign=\"left\">Score</th>\n",
       "    </tr>\n",
       "    <tr>\n",
       "      <th></th>\n",
       "      <th>count</th>\n",
       "      <th>mean</th>\n",
       "      <th>std</th>\n",
       "      <th>min</th>\n",
       "      <th>25%</th>\n",
       "      <th>50%</th>\n",
       "      <th>75%</th>\n",
       "      <th>max</th>\n",
       "    </tr>\n",
       "    <tr>\n",
       "      <th>Name</th>\n",
       "      <th></th>\n",
       "      <th></th>\n",
       "      <th></th>\n",
       "      <th></th>\n",
       "      <th></th>\n",
       "      <th></th>\n",
       "      <th></th>\n",
       "      <th></th>\n",
       "    </tr>\n",
       "  </thead>\n",
       "  <tbody>\n",
       "    <tr>\n",
       "      <th>Alessandra UK</th>\n",
       "      <td>555.0</td>\n",
       "      <td>0.085672</td>\n",
       "      <td>0.312705</td>\n",
       "      <td>-0.7425</td>\n",
       "      <td>0.0</td>\n",
       "      <td>0.0</td>\n",
       "      <td>0.3182</td>\n",
       "      <td>0.9287</td>\n",
       "    </tr>\n",
       "    <tr>\n",
       "      <th>Alex Craggs</th>\n",
       "      <td>1414.0</td>\n",
       "      <td>0.109043</td>\n",
       "      <td>0.263840</td>\n",
       "      <td>-0.8555</td>\n",
       "      <td>0.0</td>\n",
       "      <td>0.0</td>\n",
       "      <td>0.2960</td>\n",
       "      <td>0.9001</td>\n",
       "    </tr>\n",
       "    <tr>\n",
       "      <th>Alexandra Rizzo</th>\n",
       "      <td>141.0</td>\n",
       "      <td>0.103872</td>\n",
       "      <td>0.251967</td>\n",
       "      <td>-0.4939</td>\n",
       "      <td>0.0</td>\n",
       "      <td>0.0</td>\n",
       "      <td>0.2960</td>\n",
       "      <td>0.8225</td>\n",
       "    </tr>\n",
       "    <tr>\n",
       "      <th>Iuliana Padurariu</th>\n",
       "      <td>153.0</td>\n",
       "      <td>0.043640</td>\n",
       "      <td>0.248111</td>\n",
       "      <td>-0.6908</td>\n",
       "      <td>0.0</td>\n",
       "      <td>0.0</td>\n",
       "      <td>0.0000</td>\n",
       "      <td>0.7269</td>\n",
       "    </tr>\n",
       "    <tr>\n",
       "      <th>Luca Pizzi</th>\n",
       "      <td>429.0</td>\n",
       "      <td>0.093135</td>\n",
       "      <td>0.245951</td>\n",
       "      <td>-0.7506</td>\n",
       "      <td>0.0</td>\n",
       "      <td>0.0</td>\n",
       "      <td>0.2960</td>\n",
       "      <td>0.7906</td>\n",
       "    </tr>\n",
       "    <tr>\n",
       "      <th>Magda Singheorghe</th>\n",
       "      <td>528.0</td>\n",
       "      <td>0.064454</td>\n",
       "      <td>0.235242</td>\n",
       "      <td>-0.8124</td>\n",
       "      <td>0.0</td>\n",
       "      <td>0.0</td>\n",
       "      <td>0.0772</td>\n",
       "      <td>0.8271</td>\n",
       "    </tr>\n",
       "    <tr>\n",
       "      <th>Radu Malaxa</th>\n",
       "      <td>221.0</td>\n",
       "      <td>0.106223</td>\n",
       "      <td>0.256460</td>\n",
       "      <td>-0.6124</td>\n",
       "      <td>0.0</td>\n",
       "      <td>0.0</td>\n",
       "      <td>0.2960</td>\n",
       "      <td>0.8555</td>\n",
       "    </tr>\n",
       "  </tbody>\n",
       "</table>\n",
       "</div>"
      ],
      "text/plain": [
       "                    Score                                                \\\n",
       "                    count      mean       std     min  25%  50%     75%   \n",
       "Name                                                                      \n",
       "Alessandra UK       555.0  0.085672  0.312705 -0.7425  0.0  0.0  0.3182   \n",
       "Alex Craggs        1414.0  0.109043  0.263840 -0.8555  0.0  0.0  0.2960   \n",
       "Alexandra Rizzo     141.0  0.103872  0.251967 -0.4939  0.0  0.0  0.2960   \n",
       "Iuliana Padurariu   153.0  0.043640  0.248111 -0.6908  0.0  0.0  0.0000   \n",
       "Luca Pizzi          429.0  0.093135  0.245951 -0.7506  0.0  0.0  0.2960   \n",
       "Magda Singheorghe   528.0  0.064454  0.235242 -0.8124  0.0  0.0  0.0772   \n",
       "Radu Malaxa         221.0  0.106223  0.256460 -0.6124  0.0  0.0  0.2960   \n",
       "\n",
       "                           \n",
       "                      max  \n",
       "Name                       \n",
       "Alessandra UK      0.9287  \n",
       "Alex Craggs        0.9001  \n",
       "Alexandra Rizzo    0.8225  \n",
       "Iuliana Padurariu  0.7269  \n",
       "Luca Pizzi         0.7906  \n",
       "Magda Singheorghe  0.8271  \n",
       "Radu Malaxa        0.8555  "
      ]
     },
     "execution_count": 92,
     "metadata": {},
     "output_type": "execute_result"
    }
   ],
   "source": [
    "presentation = restricted.groupby(\"Name\").describe()\n",
    "presentation"
   ]
  },
  {
   "cell_type": "code",
   "execution_count": 93,
   "metadata": {
    "collapsed": true
   },
   "outputs": [],
   "source": [
    "#Awards Format\n",
    "# Format is [\"Award name\",\"data to evaluate\",\"+\" for max() and \"-\" for min()]\n",
    "awardList = [[\"Most Positive on Ave\",\"mean\",\"+\"],[\"Most Bipolar\",\"std\",\"+\"],[\"Burst of Love\",\"max\",\"+\"],[\"Types Too Much\",\"count\",\"+\"],\n",
    "            [\"Least Positive on Ave\",\"mean\",\"-\"],[\"Most Consistent\",\"std\",\"-\"],[\"Most Heartless\",\"min\",\"-\"],[\"Non-Existent\",\"count\",\"-\"]]"
   ]
  },
  {
   "cell_type": "code",
   "execution_count": 97,
   "metadata": {},
   "outputs": [
    {
     "data": {
      "text/plain": [
       "{'Burst of Love': 'Alessandra UK',\n",
       " 'Least Positive on Ave': 'Iuliana Padurariu',\n",
       " 'Most Bipolar': 'Alessandra UK',\n",
       " 'Most Consistent': 'Magda Singheorghe',\n",
       " 'Most Heartless': 'Alex Craggs',\n",
       " 'Most Positive on Ave': 'Alex Craggs',\n",
       " 'Non-Existent': 'Alexandra Rizzo',\n",
       " 'Types Too Much': 'Alex Craggs'}"
      ]
     },
     "execution_count": 97,
     "metadata": {},
     "output_type": "execute_result"
    }
   ],
   "source": [
    "resultDict = getResults(presentation,awardList)\n",
    "resultDict"
   ]
  },
  {
   "cell_type": "code",
   "execution_count": 100,
   "metadata": {},
   "outputs": [
    {
     "data": {
      "text/html": [
       "<div>\n",
       "<style scoped>\n",
       "    .dataframe tbody tr th:only-of-type {\n",
       "        vertical-align: middle;\n",
       "    }\n",
       "\n",
       "    .dataframe tbody tr th {\n",
       "        vertical-align: top;\n",
       "    }\n",
       "\n",
       "    .dataframe thead th {\n",
       "        text-align: right;\n",
       "    }\n",
       "</style>\n",
       "<table border=\"1\" class=\"dataframe\">\n",
       "  <thead>\n",
       "    <tr style=\"text-align: right;\">\n",
       "      <th></th>\n",
       "      <th>Winner</th>\n",
       "    </tr>\n",
       "  </thead>\n",
       "  <tbody>\n",
       "    <tr>\n",
       "      <th>Most Positive on Ave</th>\n",
       "      <td>Alex Craggs</td>\n",
       "    </tr>\n",
       "    <tr>\n",
       "      <th>Most Bipolar</th>\n",
       "      <td>Alessandra UK</td>\n",
       "    </tr>\n",
       "    <tr>\n",
       "      <th>Burst of Love</th>\n",
       "      <td>Alessandra UK</td>\n",
       "    </tr>\n",
       "    <tr>\n",
       "      <th>Types Too Much</th>\n",
       "      <td>Alex Craggs</td>\n",
       "    </tr>\n",
       "    <tr>\n",
       "      <th>Least Positive on Ave</th>\n",
       "      <td>Iuliana Padurariu</td>\n",
       "    </tr>\n",
       "    <tr>\n",
       "      <th>Most Consistent</th>\n",
       "      <td>Magda Singheorghe</td>\n",
       "    </tr>\n",
       "    <tr>\n",
       "      <th>Most Heartless</th>\n",
       "      <td>Alex Craggs</td>\n",
       "    </tr>\n",
       "    <tr>\n",
       "      <th>Non-Existent</th>\n",
       "      <td>Alexandra Rizzo</td>\n",
       "    </tr>\n",
       "  </tbody>\n",
       "</table>\n",
       "</div>"
      ],
      "text/plain": [
       "                                  Winner\n",
       "Most Positive on Ave         Alex Craggs\n",
       "Most Bipolar               Alessandra UK\n",
       "Burst of Love              Alessandra UK\n",
       "Types Too Much               Alex Craggs\n",
       "Least Positive on Ave  Iuliana Padurariu\n",
       "Most Consistent        Magda Singheorghe\n",
       "Most Heartless               Alex Craggs\n",
       "Non-Existent             Alexandra Rizzo"
      ]
     },
     "execution_count": 100,
     "metadata": {},
     "output_type": "execute_result"
    }
   ],
   "source": [
    "resultsDF = pd.DataFrame(pd.Series(resultDict)).rename(columns = {0:\"Winner\"})\n",
    "resultsDF"
   ]
  }
 ],
 "metadata": {
  "kernelspec": {
   "display_name": "Python 3",
   "language": "python",
   "name": "python3"
  },
  "language_info": {
   "codemirror_mode": {
    "name": "ipython",
    "version": 3
   },
   "file_extension": ".py",
   "mimetype": "text/x-python",
   "name": "python",
   "nbconvert_exporter": "python",
   "pygments_lexer": "ipython3",
   "version": "3.6.3"
  }
 },
 "nbformat": 4,
 "nbformat_minor": 2
}
